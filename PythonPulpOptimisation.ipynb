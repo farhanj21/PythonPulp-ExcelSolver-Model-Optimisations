{
  "nbformat": 4,
  "nbformat_minor": 0,
  "metadata": {
    "colab": {
      "provenance": []
    },
    "kernelspec": {
      "name": "python3",
      "display_name": "Python 3"
    },
    "language_info": {
      "name": "python"
    }
  },
  "cells": [
    {
      "cell_type": "code",
      "execution_count": null,
      "metadata": {
        "id": "DY8vFPjgGUO3",
        "colab": {
          "base_uri": "https://localhost:8080/"
        },
        "outputId": "af170bce-6003-4ab2-8853-0440af866092"
      },
      "outputs": [
        {
          "output_type": "stream",
          "name": "stdout",
          "text": [
            "Optimal Solution:\n",
            "Objective Value (Z): $19,500.00\n",
            "I1: 100.0\n",
            "I2: 0.0\n",
            "I3: 50.0\n",
            "S1_minus: 50.0\n",
            "S1_plus: 0.0\n",
            "S2_minus: 0.0\n",
            "S2_plus: 0.0\n",
            "S3_minus: 0.0\n",
            "S3_plus: 5.0\n",
            "S4_minus: 0.0\n",
            "S4_plus: 0.0\n",
            "x1: 50.0\n",
            "x2: 50.0\n",
            "x3: 45.0\n",
            "x4: 45.0\n"
          ]
        }
      ],
      "source": [
        "#Example 2.4-4 (Multiperiod Production Smoothing Model)\n",
        "#pip install pulp\n",
        "from pulp import LpProblem, LpMinimize, LpVariable, lpSum\n",
        "\n",
        "#linear programming problem\n",
        "model = LpProblem(name=\"Multiperiod Production Smoothing Model\", sense=LpMinimize)\n",
        "\n",
        "#decision variables\n",
        "x1 = LpVariable(\"x1\", lowBound=0)\n",
        "x2 = LpVariable(\"x2\", lowBound=0)\n",
        "x3 = LpVariable(\"x3\", lowBound=0)\n",
        "x4 = LpVariable(\"x4\", lowBound=0)\n",
        "\n",
        "S1_minus = LpVariable(\"S1_minus\", lowBound=0)\n",
        "S2_minus = LpVariable(\"S2_minus\", lowBound=0)\n",
        "S3_minus = LpVariable(\"S3_minus\", lowBound=0)\n",
        "S4_minus = LpVariable(\"S4_minus\", lowBound=0)\n",
        "\n",
        "S1_plus = LpVariable(\"S1_plus\", lowBound=0)\n",
        "S2_plus = LpVariable(\"S2_plus\", lowBound=0)\n",
        "S3_plus = LpVariable(\"S3_plus\", lowBound=0)\n",
        "S4_plus = LpVariable(\"S4_plus\", lowBound=0)\n",
        "\n",
        "I1 = LpVariable(\"I1\", lowBound=0)\n",
        "I2 = LpVariable(\"I2\", lowBound=0)\n",
        "I3 = LpVariable(\"I3\", lowBound=0)\n",
        "\n",
        "#objective function\n",
        "model += 50 * (I1 + I2 + I3) + 200 * (S1_minus + S2_minus + S3_minus + S4_minus) + 400 * (S1_plus + S2_plus + S3_plus + S4_plus)\n",
        "\n",
        "#constraints\n",
        "model += 10 * x1 == 400 + I1\n",
        "model += I1 + 10 * x2 == 600 + I2\n",
        "model += I2 + 10 * x3 == 400 + I3\n",
        "model += I3 + 10 * x4 == 500\n",
        "\n",
        "model += x1 == S1_minus - S1_plus\n",
        "model += x2 == x1 + S2_minus - S2_plus\n",
        "model += x3 == x2 + S3_minus - S3_plus\n",
        "model += x4 == x3 + S4_minus - S4_plus\n",
        "\n",
        "# Solve the optimization problem\n",
        "model.solve()\n",
        "\n",
        "# Display\n",
        "print(f\"Optimal Solution:\")\n",
        "print(f\"Objective Value (Z): ${model.objective.value():,.2f}\")\n",
        "\n",
        "for var in model.variables():\n",
        "    print(f\"{var.name}: {var.value()}\")\n",
        "\n"
      ]
    },
    {
      "cell_type": "code",
      "source": [
        "#Example 2.4-5 (Bus Scheduling Model)\n",
        "from pulp import LpProblem, LpMinimize, LpVariable, lpSum, LpStatus\n",
        "\n",
        "#linear programming problem\n",
        "model = LpProblem(name=\"Bus_Scheduling\", sense=LpMinimize)\n",
        "\n",
        "#decision variables\n",
        "x1 = LpVariable(name=\"x1\", lowBound=0, cat=\"Integer\")\n",
        "x2 = LpVariable(name=\"x2\", lowBound=0, cat=\"Integer\")\n",
        "x3 = LpVariable(name=\"x3\", lowBound=0, cat=\"Integer\")\n",
        "x4 = LpVariable(name=\"x4\", lowBound=0, cat=\"Integer\")\n",
        "x5 = LpVariable(name=\"x5\", lowBound=0, cat=\"Integer\")\n",
        "x6 = LpVariable(name=\"x6\", lowBound=0, cat=\"Integer\")\n",
        "\n",
        "#Objective function\n",
        "model += lpSum([x1, x2, x3, x4, x5, x6]), \"Total_Buses\"\n",
        "\n",
        "#Constraints\n",
        "model += x1 + x6 >= 4, \"12:01 a.m.–4:00 a.m.\"\n",
        "model += x1 + x2 >= 8, \"4:01 a.m.–8:00 a.m.\"\n",
        "model += x2 + x3 >= 10, \"8:01 a.m.–12:00 noon\"\n",
        "model += x3 + x4 >= 7, \"12:01 p.m.–4:00 p.m.\"\n",
        "model += x4 + x5 >= 12, \"4:01 p.m.–8:00 p.m.\"\n",
        "model += x5 + x6 >= 4, \"8:01 p.m.–12:00 p.m.\"\n",
        "\n",
        "#Solve the problem\n",
        "model.solve()\n",
        "\n",
        "#Display\n",
        "print(f\"Status: {LpStatus[model.status]}\")\n",
        "print(f\"Total Buses: {model.objective.value()}\")\n",
        "print(\"Optimal Schedule:\")\n",
        "print(f\"x1 = {x1.value()}, buses starting at 12:01 a.m.\")\n",
        "print(f\"x2 = {x2.value()}, buses starting at 4:01 a.m.\")\n",
        "print(f\"x3 = {x3.value()}, buses starting at 8:01 a.m.\")\n",
        "print(f\"x4 = {x4.value()}, buses starting at 12:01 p.m.\")\n",
        "print(f\"x5 = {x5.value()}, buses starting at 4:01 p.m.\")\n",
        "print(f\"x6 = {x6.value()}, buses starting at 8:01 p.m.\")\n"
      ],
      "metadata": {
        "id": "nohdD8KDLKpn",
        "colab": {
          "base_uri": "https://localhost:8080/"
        },
        "outputId": "9608379f-7191-499c-a1a9-efea96c3a8b2"
      },
      "execution_count": null,
      "outputs": [
        {
          "output_type": "stream",
          "name": "stdout",
          "text": [
            "Status: Optimal\n",
            "Total Buses: 26.0\n",
            "Optimal Schedule:\n",
            "x1 = 0.0, buses starting at 12:01 a.m.\n",
            "x2 = 10.0, buses starting at 4:01 a.m.\n",
            "x3 = 0.0, buses starting at 8:01 a.m.\n",
            "x4 = 12.0, buses starting at 12:01 p.m.\n",
            "x5 = 0.0, buses starting at 4:01 p.m.\n",
            "x6 = 4.0, buses starting at 8:01 p.m.\n"
          ]
        }
      ]
    },
    {
      "cell_type": "code",
      "source": [
        "#Example 5.3-1 (SunRay Transport)\n",
        "from pulp import LpProblem, LpMinimize, LpVariable, lpSum, value\n",
        "\n",
        "#Supply and demand\n",
        "supply = [15, 25, 10]  # Supply at each source (Silo)\n",
        "demand = [5, 15, 15, 15]  # Demand at each destination (Mill)\n",
        "\n",
        "# Transportation costs\n",
        "costs = [\n",
        "    [10, 2, 20, 11],\n",
        "    [12, 7, 9, 20],\n",
        "    [4, 14, 16, 18]\n",
        "]\n",
        "\n",
        "#Linear programming problem\n",
        "model = LpProblem(name=\"SunRayTransportation\", sense=LpMinimize)\n",
        "\n",
        "#Decision variables\n",
        "num_sources = len(supply)\n",
        "num_destinations = len(demand)\n",
        "x = [[LpVariable(f\"x{i + 1}{j + 1}\", lowBound=0) for j in range(num_destinations)] for i in range(num_sources)]\n",
        "\n",
        "#Objective function\n",
        "model += lpSum(x[i][j] * costs[i][j] for i in range(num_sources) for j in range(num_destinations))\n",
        "\n",
        "#Constraints for supply\n",
        "for i in range(num_sources):\n",
        "    model += lpSum(x[i][j] for j in range(num_destinations)) == supply[i]\n",
        "\n",
        "#Constraints for demand\n",
        "for j in range(num_destinations):\n",
        "    model += lpSum(x[i][j] for i in range(num_sources)) == demand[j]\n",
        "\n",
        "#Solve problem using Northwest-corner method\n",
        "for i in range(num_sources):\n",
        "    for j in range(num_destinations):\n",
        "        quantity = min(supply[i], demand[j])\n",
        "        model += x[i][j] == quantity\n",
        "        supply[i] -= quantity\n",
        "        demand[j] -= quantity\n",
        "\n",
        "#Solve the linear programming problem\n",
        "model.solve()\n",
        "\n",
        "#Display\n",
        "print(\"Status:\", pulp.LpStatus[model.status])\n",
        "print(\"Objective Value (Total Cost):\", value(model.objective))\n",
        "\n",
        "#Display the optimal transportation schedule\n",
        "for i in range(num_sources):\n",
        "    for j in range(num_destinations):\n",
        "        if value(x[i][j]) != 0:\n",
        "            print(f\"Ship {x[i][j].name} = {value(x[i][j])}\")\n"
      ],
      "metadata": {
        "colab": {
          "base_uri": "https://localhost:8080/"
        },
        "id": "f6JYfPmiP48c",
        "outputId": "1008c151-7163-4f3d-dfd9-50ed4b84cdd8"
      },
      "execution_count": null,
      "outputs": [
        {
          "output_type": "stream",
          "name": "stdout",
          "text": [
            "Status: Optimal\n",
            "Objective Value (Total Cost): 520.0\n",
            "Ship x11 = 5.0\n",
            "Ship x12 = 10.0\n",
            "Ship x22 = 5.0\n",
            "Ship x23 = 15.0\n",
            "Ship x24 = 5.0\n",
            "Ship x34 = 10.0\n"
          ]
        }
      ]
    },
    {
      "cell_type": "code",
      "source": [
        "#Example 9.1-2 (Installing Security Telephones)\n",
        "import pulp\n",
        "\n",
        "# Create a minimization problem\n",
        "model = pulp.LpProblem(\"Minimize_Telephones_Installation\", pulp.LpMinimize)\n",
        "\n",
        "# Decision variables\n",
        "x = pulp.LpVariable.dicts(\"Telephone_Installed\", range(1, 9), 0, 1, pulp.LpBinary)\n",
        "\n",
        "# Objective function\n",
        "model += pulp.lpSum(x[j] for j in range(1, 9)), \"Total_Telephones_Installed\"\n",
        "\n",
        "# Constraints\n",
        "model += x[1] + x[2] >= 1, \"Street_A\"\n",
        "model += x[2] + x[3] >= 1, \"Street_B\"\n",
        "model += x[4] + x[5] >= 1, \"Street_C\"\n",
        "model += x[7] + x[8] >= 1, \"Street_D\"\n",
        "model += x[6] + x[7] >= 1, \"Street_E\"\n",
        "model += x[2] + x[6] >= 1, \"Street_F\"\n",
        "model += x[1] + x[6] >= 1, \"Street_G\"\n",
        "model += x[4] + x[7] >= 1, \"Street_H\"\n",
        "model += x[2] + x[4] >= 1, \"Street_I\"\n",
        "model += x[5] + x[8] >= 1, \"Street_J\"\n",
        "model += x[3] + x[5] >= 1, \"Street_K\"\n",
        "\n",
        "# Solve the problem\n",
        "model.solve()\n",
        "\n",
        "# Print the results\n",
        "print(\"Status:\", pulp.LpStatus[model.status])\n",
        "print(\"Optimal Solution:\")\n",
        "for j in range(1, 9):\n",
        "    installation_status = \"1.0 (Telephone Installed)\" if pulp.value(x[j]) == 1.0 else f\"{pulp.value(x[j]):.1f}\"\n",
        "    print(f\"Intersection {j}: {installation_status}\")\n",
        "\n",
        "print(\"Total Telephones Installed:\", pulp.value(model.objective))\n"
      ],
      "metadata": {
        "id": "4zbAA9pAT7L-",
        "colab": {
          "base_uri": "https://localhost:8080/"
        },
        "outputId": "9a5e72c3-a160-41b1-9b0a-2cfc5f2a6b71"
      },
      "execution_count": null,
      "outputs": [
        {
          "output_type": "stream",
          "name": "stdout",
          "text": [
            "Status: Optimal\n",
            "Optimal Solution:\n",
            "Intersection 1: 1.0 (Telephone Installed)\n",
            "Intersection 2: 1.0 (Telephone Installed)\n",
            "Intersection 3: 0.0\n",
            "Intersection 4: 0.0\n",
            "Intersection 5: 1.0 (Telephone Installed)\n",
            "Intersection 6: 0.0\n",
            "Intersection 7: 1.0 (Telephone Installed)\n",
            "Intersection 8: 0.0\n",
            "Total Telephones Installed: 4.0\n"
          ]
        }
      ]
    },
    {
      "cell_type": "code",
      "source": [
        "from pulp import LpProblem, LpMinimize, LpVariable, lpSum, LpStatus, value\n",
        "\n",
        "# Create a linear programming problem\n",
        "prob = LpProblem(\"TelephoneCompany\", LpMinimize)\n",
        "\n",
        "# Define decision variables\n",
        "x1 = LpVariable(\"x1\", lowBound=0, cat=\"Continuous\")\n",
        "x2 = LpVariable(\"x2\", lowBound=0, cat=\"Continuous\")\n",
        "x3 = LpVariable(\"x3\", lowBound=0, cat=\"Continuous\")\n",
        "\n",
        "y1 = LpVariable(\"y1\", cat=\"Binary\")\n",
        "y2 = LpVariable(\"y2\", cat=\"Binary\")\n",
        "y3 = LpVariable(\"y3\", cat=\"Binary\")\n",
        "\n",
        "# Define the objective function\n",
        "prob += 0.25 * x1 + 0.21 * x2 + 0.22 * x3 + 16 * y1 + 25 * y2 + 18 * y3, \"TotalCost\"\n",
        "\n",
        "# Define the constraints\n",
        "prob += x1 + x2 + x3 == 200, \"TotalMinutes\"\n",
        "prob += x1 <= 200 * y1, \"MaBellConstraint\"\n",
        "prob += x2 <= 200 * y2, \"PaBellConstraint\"\n",
        "prob += x3 <= 200 * y3, \"BabyBellConstraint\"\n",
        "\n",
        "# Solve the problem\n",
        "prob.solve()\n",
        "\n",
        "# Display the results\n",
        "print(\"Status:\", LpStatus[prob.status])\n",
        "print(\"Optimal Solution:\")\n",
        "print(\"x1 =\", value(x1))\n",
        "print(\"x2 =\", value(x2))\n",
        "print(\"x3 =\", value(x3))\n",
        "print(\"y1 =\", value(y1))\n",
        "print(\"y2 =\", value(y2))\n",
        "print(\"y3 =\", value(y3))\n",
        "print(\"Total Cost =\", value(prob.objective))\n"
      ],
      "metadata": {
        "colab": {
          "base_uri": "https://localhost:8080/"
        },
        "id": "LcBFj8t6Vui6",
        "outputId": "03d498b4-9735-4b20-a1a4-48f5f3f680e1"
      },
      "execution_count": null,
      "outputs": [
        {
          "output_type": "stream",
          "name": "stdout",
          "text": [
            "Status: Optimal\n",
            "Optimal Solution:\n",
            "x1 = 0.0\n",
            "x2 = 0.0\n",
            "x3 = 200.0\n",
            "y1 = 0.0\n",
            "y2 = 0.0\n",
            "y3 = 1.0\n",
            "Total Cost = 62.0\n"
          ]
        }
      ]
    }
  ]
}